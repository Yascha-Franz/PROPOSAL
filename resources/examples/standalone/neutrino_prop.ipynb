{
 "cells": [
  {
   "cell_type": "code",
   "execution_count": 1,
   "metadata": {},
   "outputs": [],
   "source": [
    "import pyPROPOSAL as pp\n",
    "import numpy as np\n",
    "import matplotlib.pyplot as plt"
   ]
  },
  {
   "cell_type": "code",
   "execution_count": 2,
   "metadata": {},
   "outputs": [],
   "source": [
    "NuMuDef = pp.particle.NuMuDef.get()\n",
    "config_rock = \"../../config_rock_neutrino.json\""
   ]
  },
  {
   "cell_type": "code",
   "execution_count": 3,
   "metadata": {},
   "outputs": [],
   "source": [
    "NuMu = pp.particle.Particle(NuMuDef)\n",
    "Direction = pp.Vector3D(0,0,-1)\n",
    "Position = pp.Vector3D(0,0,6374134000000)\n",
    "Energy = 1e7"
   ]
  },
  {
   "cell_type": "code",
   "execution_count": 4,
   "metadata": {},
   "outputs": [],
   "source": [
    "def propagate(particleDef, config, direction, pos, e):\n",
    "    prop = pp.Propagator(particleDef, config)\n",
    "    particle = prop.particle\n",
    "    particle.direction = direction\n",
    "    particle.position = pos\n",
    "    particle.energy = e\n",
    "    particle_start = pp.particle.Particle(particle)\n",
    "    secondarys = prop.propagate()\n",
    "    particlepath = np.array([[particle_start.position.x, particle_start.position.y, particle_start.position.z]])\n",
    "    for secondary in secondarys:\n",
    "        particlepath = np.append(particlepath, [[secondary.position.x, secondary.position.y, secondary.position.z]], axis=0)\n",
    "    return particlepath, secondarys"
   ]
  },
  {
   "cell_type": "code",
   "execution_count": 5,
   "metadata": {},
   "outputs": [],
   "source": [
    "def propagate_and_plot(particleDef, config, direction, pos, e, colour):\n",
    "    particlepath, secondarys = propagate(particleDef, config, direction, pos, e)\n",
    "    plt.plot(particlepath[:,0],particlepath[:,2], c = colour)\n",
    "    for secondary in secondarys:\n",
    "        if secondary.id == pp.particle.Data.Particle:\n",
    "            particleId = secondary.particle_def.particle_id\n",
    "            if (abs(particleId) < 20 and abs(particleId) > 10 and particleId%2==1):\n",
    "                config = \"../../config_rock_lepton.json\"\n",
    "                propagate_and_plot(secondary.particle_def, config, secondary.direction, secondary.position, secondary.energy, 'k')\n",
    "            elif (abs(particleId) < 20 and abs(particleId) > 10 and particleId%2==0):\n",
    "                config = \"../../config_rock_neutrino.json\"\n",
    "                propagate_and_plot(secondary.particle_def, config, secondary.direction, secondary.position, secondary.energy, 'b')\n",
    "            elif (particleId==21):\n",
    "                config = \"../../config_rock_gamma.json\"\n",
    "                propagate_and_plot(secondary.particle_def, config, secondary.direction, secondary.position, secondary.energy, 'orange')"
   ]
  },
  {
   "cell_type": "code",
   "execution_count": 6,
   "metadata": {
    "scrolled": false
   },
   "outputs": [
    {
     "data": {
      "image/png": "[encoded data removed]",
      "text/plain": [
       "<Figure size 432x288 with 1 Axes>"
      ]
     },
     "metadata": {
      "needs_background": "light"
     },
     "output_type": "display_data"
    }
   ],
   "source": [
    "propagate_and_plot(NuMu.particle_def, config_rock, Direction, Position, Energy, 'b')"
   ]
  },
  {
   "cell_type": "code",
   "execution_count": 7,
   "metadata": {},
   "outputs": [],
   "source": [
    "NuTauDef = pp.particle.NuTauDef.get()"
   ]
  },
  {
   "cell_type": "code",
   "execution_count": 8,
   "metadata": {},
   "outputs": [
    {
     "data": {
      "image/png": "[encoded data removed]",
      "text/plain": [
       "<Figure size 432x288 with 1 Axes>"
      ]
     },
     "metadata": {
      "needs_background": "light"
     },
     "output_type": "display_data"
    }
   ],
   "source": [
    "propagate_and_plot(NuTauDef, config_rock, Direction, Position, Energy, 'b')"
   ]
  }
 ],
 "metadata": {
  "kernelspec": {
   "display_name": "Python 3",
   "language": "python",
   "name": "python3"
  },
  "language_info": {
   "codemirror_mode": {
    "name": "ipython",
    "version": 3
   },
   "file_extension": ".py",
   "mimetype": "text/x-python",
   "name": "python",
   "nbconvert_exporter": "python",
   "pygments_lexer": "ipython3",
   "version": "3.7.3"
  }
 },
 "nbformat": 4,
 "nbformat_minor": 2
}
